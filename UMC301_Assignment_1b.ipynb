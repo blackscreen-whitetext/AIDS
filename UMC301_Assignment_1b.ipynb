{
  "cells": [
    {
      "cell_type": "markdown",
      "metadata": {
        "colab_type": "text",
        "id": "view-in-github"
      },
      "source": [
        "<a href=\"https://colab.research.google.com/github/blackscreen-whitetext/AIDS/blob/main/UMC301_Assignment_1b.ipynb\" target=\"_parent\"><img src=\"https://colab.research.google.com/assets/colab-badge.svg\" alt=\"Open In Colab\"/></a>"
      ]
    },
    {
      "cell_type": "markdown",
      "metadata": {
        "id": "2C_aPHgO4gTa"
      },
      "source": [
        "# UMC 301\n",
        "## Assignment 1b\n",
        "\n",
        "###Submission instructions:\n",
        "\n",
        "\n",
        "1.   The assignment is to be submitted in ONE single notebook.\n",
        "2.   Submit the .ipynb file and pdf of the same with all cells open through this Teams Assignment.\n",
        "3. If your IISc email ID is < username > @iisc.ac.in, then name the file < username >_Assgn_1b. E.g. jonathan_Assgn_1b for email ID jonathan@iisc.ac.in.\n",
        "4. Before submission, execute the ’Restart session and run all’ option from the Runtime/Kernel tab. Verify that there are no errors and that you are getting the output you expect.\n",
        "5. Use the dataset **'SeoulBikeData.csv'**: https://www.dropbox.com/scl/fi/tofrz23mx38tbsrtar1lx/SeoulBikeData.csv?rlkey=zlvra2py146p5lrynxnzijc1p&dl=1\n"
      ]
    },
    {
      "cell_type": "markdown",
      "metadata": {
        "id": "aAujLCb35Q9D"
      },
      "source": [
        "# Use XGBoost regression model to predict the bike count required at each hour for the stable supply of rental bikes.\n",
        "\n",
        "###**Data Description**\n",
        "\n",
        "###  The dataset contains weather information (Temperature, Humidity, Windspeed, Visibility, Dewpoint, Solar radiation, Snowfall, Rainfall), the number of bikes rented per hour and date information.\n",
        "\n",
        "\n",
        "**Attribute Information:**\n",
        "\n",
        "*  Date : dd/mm/yyyy\n",
        "*  Rented Bike count - Count of bikes rented at each hour\n",
        "*  Hour - Hour of he day\n",
        "* Temperature-Temperature in Celsius\n",
        "* Humidity - %\n",
        "* Windspeed - m/s\n",
        "* Visibility - 10m\n",
        "* Dew point temperature - Celsius\n",
        "* Solar radiation - MJ/m2\n",
        "* Rainfall - mm\n",
        "* Snowfall - cm\n",
        "* Seasons - Winter, Spring, Summer, Autumn\n",
        "* Holiday - Holiday/No holiday\n",
        "*  Functional Day - No(Non Functional Hours), Yes(Functional hours)"
      ]
    },
    {
      "cell_type": "markdown",
      "metadata": {
        "id": "e2oNmeiR5W8V"
      },
      "source": [
        "##a. Data preprocessing\n",
        "\n",
        "1. Import modules and load data.\n",
        "2. Feature engineering\n",
        "  * Check for null and duplicates in the data.\n",
        "  * Add weekend data, month data.\n",
        "  * Identify the datatypes.\n",
        "  * Check whether all int/float datatypes falls into numerical feature category.\n",
        "  * Seperate features into numerical and categorical.\n",
        "\n"
      ]
    },
    {
      "cell_type": "code",
      "execution_count": 2,
      "metadata": {
        "id": "LfbyPqTiaoHP"
      },
      "outputs": [],
      "source": [
        "import pandas\n",
        "import numpy as np\n",
        "from scipy.stats import norm\n",
        "import scipy.stats as stats\n",
        "import matplotlib.pyplot as plt\n",
        "import seaborn as sns\n",
        "#from sklearn import XGBRegressor"
      ]
    },
    {
      "cell_type": "code",
      "execution_count": 3,
      "metadata": {},
      "outputs": [
        {
          "data": {
            "text/html": [
              "<div>\n",
              "<style scoped>\n",
              "    .dataframe tbody tr th:only-of-type {\n",
              "        vertical-align: middle;\n",
              "    }\n",
              "\n",
              "    .dataframe tbody tr th {\n",
              "        vertical-align: top;\n",
              "    }\n",
              "\n",
              "    .dataframe thead th {\n",
              "        text-align: right;\n",
              "    }\n",
              "</style>\n",
              "<table border=\"1\" class=\"dataframe\">\n",
              "  <thead>\n",
              "    <tr style=\"text-align: right;\">\n",
              "      <th></th>\n",
              "      <th>Date</th>\n",
              "      <th>Rented Bike Count</th>\n",
              "      <th>Hour</th>\n",
              "      <th>Temperature(C)</th>\n",
              "      <th>Humidity(%)</th>\n",
              "      <th>Wind speed (m/s)</th>\n",
              "      <th>Visibility (10m)</th>\n",
              "      <th>Dew point temperature(C)</th>\n",
              "      <th>Solar Radiation (MJ/m2)</th>\n",
              "      <th>Rainfall(mm)</th>\n",
              "      <th>Snowfall (cm)</th>\n",
              "      <th>Seasons</th>\n",
              "      <th>Holiday</th>\n",
              "      <th>Functioning Day</th>\n",
              "    </tr>\n",
              "  </thead>\n",
              "  <tbody>\n",
              "    <tr>\n",
              "      <th>0</th>\n",
              "      <td>01/12/17</td>\n",
              "      <td>254</td>\n",
              "      <td>0</td>\n",
              "      <td>-5.2</td>\n",
              "      <td>37</td>\n",
              "      <td>2.2</td>\n",
              "      <td>2000</td>\n",
              "      <td>-17.6</td>\n",
              "      <td>0.0</td>\n",
              "      <td>0.0</td>\n",
              "      <td>0.0</td>\n",
              "      <td>Winter</td>\n",
              "      <td>No Holiday</td>\n",
              "      <td>Yes</td>\n",
              "    </tr>\n",
              "    <tr>\n",
              "      <th>1</th>\n",
              "      <td>01/12/17</td>\n",
              "      <td>204</td>\n",
              "      <td>1</td>\n",
              "      <td>-5.5</td>\n",
              "      <td>38</td>\n",
              "      <td>0.8</td>\n",
              "      <td>2000</td>\n",
              "      <td>-17.6</td>\n",
              "      <td>0.0</td>\n",
              "      <td>0.0</td>\n",
              "      <td>0.0</td>\n",
              "      <td>Winter</td>\n",
              "      <td>No Holiday</td>\n",
              "      <td>Yes</td>\n",
              "    </tr>\n",
              "    <tr>\n",
              "      <th>2</th>\n",
              "      <td>01/12/17</td>\n",
              "      <td>173</td>\n",
              "      <td>2</td>\n",
              "      <td>-6.0</td>\n",
              "      <td>39</td>\n",
              "      <td>1.0</td>\n",
              "      <td>2000</td>\n",
              "      <td>-17.7</td>\n",
              "      <td>0.0</td>\n",
              "      <td>0.0</td>\n",
              "      <td>0.0</td>\n",
              "      <td>Winter</td>\n",
              "      <td>No Holiday</td>\n",
              "      <td>Yes</td>\n",
              "    </tr>\n",
              "    <tr>\n",
              "      <th>3</th>\n",
              "      <td>01/12/17</td>\n",
              "      <td>107</td>\n",
              "      <td>3</td>\n",
              "      <td>-6.2</td>\n",
              "      <td>40</td>\n",
              "      <td>0.9</td>\n",
              "      <td>2000</td>\n",
              "      <td>-17.6</td>\n",
              "      <td>0.0</td>\n",
              "      <td>0.0</td>\n",
              "      <td>0.0</td>\n",
              "      <td>Winter</td>\n",
              "      <td>No Holiday</td>\n",
              "      <td>Yes</td>\n",
              "    </tr>\n",
              "    <tr>\n",
              "      <th>4</th>\n",
              "      <td>01/12/17</td>\n",
              "      <td>78</td>\n",
              "      <td>4</td>\n",
              "      <td>-6.0</td>\n",
              "      <td>36</td>\n",
              "      <td>2.3</td>\n",
              "      <td>2000</td>\n",
              "      <td>-18.6</td>\n",
              "      <td>0.0</td>\n",
              "      <td>0.0</td>\n",
              "      <td>0.0</td>\n",
              "      <td>Winter</td>\n",
              "      <td>No Holiday</td>\n",
              "      <td>Yes</td>\n",
              "    </tr>\n",
              "  </tbody>\n",
              "</table>\n",
              "</div>"
            ],
            "text/plain": [
              "       Date  Rented Bike Count  Hour  Temperature(C)  Humidity(%)  \\\n",
              "0  01/12/17                254     0            -5.2           37   \n",
              "1  01/12/17                204     1            -5.5           38   \n",
              "2  01/12/17                173     2            -6.0           39   \n",
              "3  01/12/17                107     3            -6.2           40   \n",
              "4  01/12/17                 78     4            -6.0           36   \n",
              "\n",
              "   Wind speed (m/s)  Visibility (10m)  Dew point temperature(C)  \\\n",
              "0               2.2              2000                     -17.6   \n",
              "1               0.8              2000                     -17.6   \n",
              "2               1.0              2000                     -17.7   \n",
              "3               0.9              2000                     -17.6   \n",
              "4               2.3              2000                     -18.6   \n",
              "\n",
              "   Solar Radiation (MJ/m2)  Rainfall(mm)  Snowfall (cm) Seasons     Holiday  \\\n",
              "0                      0.0           0.0            0.0  Winter  No Holiday   \n",
              "1                      0.0           0.0            0.0  Winter  No Holiday   \n",
              "2                      0.0           0.0            0.0  Winter  No Holiday   \n",
              "3                      0.0           0.0            0.0  Winter  No Holiday   \n",
              "4                      0.0           0.0            0.0  Winter  No Holiday   \n",
              "\n",
              "  Functioning Day  \n",
              "0             Yes  \n",
              "1             Yes  \n",
              "2             Yes  \n",
              "3             Yes  \n",
              "4             Yes  "
            ]
          },
          "execution_count": 3,
          "metadata": {},
          "output_type": "execute_result"
        }
      ],
      "source": [
        "data = pandas.read_csv('SeoulBikeData.csv')\n",
        "data.head()"
      ]
    },
    {
      "cell_type": "markdown",
      "metadata": {
        "id": "UbVadZH75W2p"
      },
      "source": [
        "##b.  Data visualization and encoding\n",
        "\n",
        "1. Visualize how the rented bike count varies hourly for different categorical features.\n",
        "2. Visualize the rented bike count outliers for each categorical features.\n",
        "3. Visualize the variation in the data distribution for each numerical features. Also, mark/show the mean and median of the distribution in the plot.\n",
        "4. Visualize the outliers in each numerical feature data.\n",
        "5. create a regression plot to know relation between dependent and independent nuumerical variables.\n",
        "6. Visualize the correlation between different numerical features using heat map. Find and remove correlated features for a threshold value of 0.7 (correlation>0.7).\n",
        "\n",
        "  **Comment your analysis from each plots.**\n",
        "\n",
        "7. Encoding categorical features (**Use pipelines**).\n",
        "  * One-hot encoding for seasons.\n",
        "  * Numerical encoding (1 or 0) for categorical features with 2 unique values.\n",
        "  * Use numerical identifier for other categorical features (eg. month: January-1, march-3)\n",
        "8. Delete non-relevant feautes from the dataframe and comment.\n",
        "9. Visualize the dependent variable data-distribution and check for skewness. The regression assumes that the dependent variable has a nearly normal distribution, therefore, to meet this assumption, make some measures to normalize the distribution, if necessary."
      ]
    },
    {
      "cell_type": "code",
      "execution_count": null,
      "metadata": {
        "id": "QEemLs4kao7X"
      },
      "outputs": [],
      "source": []
    },
    {
      "cell_type": "markdown",
      "metadata": {
        "id": "jN9TT5uZ5Wv5"
      },
      "source": [
        "##c. Build, train, test and optimize the model\n",
        "1. Seperate target and features from the data.\n",
        "2. Do 80:20 train test split.\n",
        "3. Train the XGBoost regression model with default parameters.\n",
        "  * Report $r^2$ and RMSE values for train and test datasets.\n",
        "  * Plot actual vs predicted for the test data.\n",
        "  * Plot feature importance and report top 5 features (use importance_type='gain').\n",
        "4. Tune the hyperparameters of the model using Optuna. Specify the parameter values used.\n",
        "  * Report $r^2$ and RMSE values for train and test datasets.\n",
        "  * Plot actual vs predicted for the test data.\n",
        "  * Plot feature importance and report top 5 features (use importance_type='gain').\n",
        "\n",
        "    **compare with the default model and comment**\n"
      ]
    },
    {
      "cell_type": "code",
      "execution_count": null,
      "metadata": {
        "id": "b-hVhm8vapbR"
      },
      "outputs": [],
      "source": []
    }
  ],
  "metadata": {
    "colab": {
      "include_colab_link": true,
      "provenance": []
    },
    "kernelspec": {
      "display_name": "Python 3",
      "name": "python3"
    },
    "language_info": {
      "codemirror_mode": {
        "name": "ipython",
        "version": 3
      },
      "file_extension": ".py",
      "mimetype": "text/x-python",
      "name": "python",
      "nbconvert_exporter": "python",
      "pygments_lexer": "ipython3",
      "version": "3.12.1"
    }
  },
  "nbformat": 4,
  "nbformat_minor": 0
}
