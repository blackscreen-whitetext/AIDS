{
  "nbformat": 4,
  "nbformat_minor": 0,
  "metadata": {
    "colab": {
      "provenance": [],
      "include_colab_link": true
    },
    "kernelspec": {
      "name": "python3",
      "display_name": "Python 3"
    },
    "language_info": {
      "name": "python"
    }
  },
  "cells": [
    {
      "cell_type": "markdown",
      "metadata": {
        "id": "view-in-github",
        "colab_type": "text"
      },
      "source": [
        "<a href=\"https://colab.research.google.com/github/blackscreen-whitetext/AIDS/blob/main/UMC301_Assignment_1b.ipynb\" target=\"_parent\"><img src=\"https://colab.research.google.com/assets/colab-badge.svg\" alt=\"Open In Colab\"/></a>"
      ]
    },
    {
      "cell_type": "markdown",
      "source": [
        "# UMC 301\n",
        "## Assignment 1b\n",
        "\n",
        "###Submission instructions:\n",
        "\n",
        "\n",
        "1.   The assignment is to be submitted in ONE single notebook.\n",
        "2.   Submit the .ipynb file and pdf of the same with all cells open through this Teams Assignment.\n",
        "3. If your IISc email ID is < username > @iisc.ac.in, then name the file < username >_Assgn_1b. E.g. jonathan_Assgn_1b for email ID jonathan@iisc.ac.in.\n",
        "4. Before submission, execute the ’Restart session and run all’ option from the Runtime/Kernel tab. Verify that there are no errors and that you are getting the output you expect.\n",
        "5. Use the dataset **'SeoulBikeData.csv'**: https://www.dropbox.com/scl/fi/tofrz23mx38tbsrtar1lx/SeoulBikeData.csv?rlkey=zlvra2py146p5lrynxnzijc1p&dl=1\n"
      ],
      "metadata": {
        "id": "2C_aPHgO4gTa"
      }
    },
    {
      "cell_type": "markdown",
      "source": [
        "# Use XGBoost regression model to predict the bike count required at each hour for the stable supply of rental bikes.\n",
        "\n",
        "###**Data Description**\n",
        "\n",
        "###  The dataset contains weather information (Temperature, Humidity, Windspeed, Visibility, Dewpoint, Solar radiation, Snowfall, Rainfall), the number of bikes rented per hour and date information.\n",
        "\n",
        "\n",
        "**Attribute Information:**\n",
        "\n",
        "*  Date : dd/mm/yyyy\n",
        "*  Rented Bike count - Count of bikes rented at each hour\n",
        "*  Hour - Hour of he day\n",
        "* Temperature-Temperature in Celsius\n",
        "* Humidity - %\n",
        "* Windspeed - m/s\n",
        "* Visibility - 10m\n",
        "* Dew point temperature - Celsius\n",
        "* Solar radiation - MJ/m2\n",
        "* Rainfall - mm\n",
        "* Snowfall - cm\n",
        "* Seasons - Winter, Spring, Summer, Autumn\n",
        "* Holiday - Holiday/No holiday\n",
        "*  Functional Day - No(Non Functional Hours), Yes(Functional hours)"
      ],
      "metadata": {
        "id": "aAujLCb35Q9D"
      }
    },
    {
      "cell_type": "markdown",
      "source": [
        "##a. Data preprocessing\n",
        "\n",
        "1. Import modules and load data.\n",
        "2. Feature engineering\n",
        "  * Check for null and duplicates in the data.\n",
        "  * Add weekend data, month data.\n",
        "  * Identify the datatypes.\n",
        "  * Check whether all int/float datatypes falls into numerical feature category.\n",
        "  * Seperate features into numerical and categorical.\n",
        "\n"
      ],
      "metadata": {
        "id": "e2oNmeiR5W8V"
      }
    },
    {
      "cell_type": "code",
      "source": [],
      "metadata": {
        "id": "LfbyPqTiaoHP"
      },
      "execution_count": null,
      "outputs": []
    },
    {
      "cell_type": "markdown",
      "source": [
        "##b.  Data visualization and encoding\n",
        "\n",
        "1. Visualize how the rented bike count varies hourly for different categorical features.\n",
        "2. Visualize the rented bike count outliers for each categorical features.\n",
        "3. Visualize the variation in the data distribution for each numerical features. Also, mark/show the mean and median of the distribution in the plot.\n",
        "4. Visualize the outliers in each numerical feature data.\n",
        "5. create a regression plot to know relation between dependent and independent nuumerical variables.\n",
        "6. Visualize the correlation between different numerical features using heat map. Find and remove correlated features for a threshold value of 0.7 (correlation>0.7).\n",
        "\n",
        "  **Comment your analysis from each plots.**\n",
        "\n",
        "7. Encoding categorical features (**Use pipelines**).\n",
        "  * One-hot encoding for seasons.\n",
        "  * Numerical encoding (1 or 0) for categorical features with 2 unique values.\n",
        "  * Use numerical identifier for other categorical features (eg. month: January-1, march-3)\n",
        "8. Delete non-relevant feautes from the dataframe and comment.\n",
        "9. Visualize the dependent variable data-distribution and check for skewness. The regression assumes that the dependent variable has a nearly normal distribution, therefore, to meet this assumption, make some measures to normalize the distribution, if necessary."
      ],
      "metadata": {
        "id": "UbVadZH75W2p"
      }
    },
    {
      "cell_type": "code",
      "source": [],
      "metadata": {
        "id": "QEemLs4kao7X"
      },
      "execution_count": null,
      "outputs": []
    },
    {
      "cell_type": "markdown",
      "source": [
        "##c. Build, train, test and optimize the model\n",
        "1. Seperate target and features from the data.\n",
        "2. Do 80:20 train test split.\n",
        "3. Train the XGBoost regression model with default parameters.\n",
        "  * Report $r^2$ and RMSE values for train and test datasets.\n",
        "  * Plot actual vs predicted for the test data.\n",
        "  * Plot feature importance and report top 5 features (use importance_type='gain').\n",
        "4. Tune the hyperparameters of the model using Optuna. Specify the parameter values used.\n",
        "  * Report $r^2$ and RMSE values for train and test datasets.\n",
        "  * Plot actual vs predicted for the test data.\n",
        "  * Plot feature importance and report top 5 features (use importance_type='gain').\n",
        "\n",
        "    **compare with the default model and comment**\n"
      ],
      "metadata": {
        "id": "jN9TT5uZ5Wv5"
      }
    },
    {
      "cell_type": "code",
      "source": [],
      "metadata": {
        "id": "b-hVhm8vapbR"
      },
      "execution_count": null,
      "outputs": []
    }
  ]
}