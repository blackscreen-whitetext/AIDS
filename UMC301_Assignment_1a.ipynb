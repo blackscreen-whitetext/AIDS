{
  "cells": [
    {
      "cell_type": "markdown",
      "metadata": {
        "colab_type": "text",
        "id": "view-in-github"
      },
      "source": [
        "<a href=\"https://colab.research.google.com/github/blackscreen-whitetext/AIDS/blob/main/UMC301_Assignment_1a.ipynb\" target=\"_parent\"><img src=\"https://colab.research.google.com/assets/colab-badge.svg\" alt=\"Open In Colab\"/></a>"
      ]
    },
    {
      "cell_type": "markdown",
      "metadata": {
        "id": "dZ0_pb94DLbS"
      },
      "source": [
        "# UMC 301: Applied Data Science and Artificial Intelligence\n",
        "## Assignment 1a\n",
        "\n",
        "### Submission instructions:\n",
        "\n",
        "\n",
        "1.   The assignment is to be submitted in ONE single notebook.\n",
        "2.   Submit the .ipynb file and pdf of the same with all cells open through this Teams Assignment.\n",
        "3. If your IISc email ID is < username > @iisc.ac.in, then name the file < username >_Assgn_1a. E.g. jonathan_Assgn_1a for email ID jonathan@iisc.ac.in.\n",
        "4. Before submission, execute the ’Restart session and run all’ option from the Runtime/Kernel tab. Verify that there are no errors and that you are getting the output you expect.\n",
        "5. Use the dataset **'SeoulBikeData.csv'**: https://www.dropbox.com/scl/fi/tofrz23mx38tbsrtar1lx/SeoulBikeData.csv?rlkey=zlvra2py146p5lrynxnzijc1p&dl=1\n",
        "6. Use significance level $\\alpha = 0.05$ for all questions.\n",
        "7. Calculate the hypothesis test statistics (stat_value, p_value, dof etc.) using equations and validate using the inbuit python functions."
      ]
    },
    {
      "cell_type": "code",
      "execution_count": 20,
      "metadata": {},
      "outputs": [],
      "source": [
        "import pandas\n",
        "import numpy as np\n",
        "from scipy.stats import norm\n",
        "import scipy.stats as stats\n",
        "import matplotlib.pyplot as plt\n",
        "import seaborn as sns\n",
        "from scipy.stats import f,t"
      ]
    },
    {
      "cell_type": "code",
      "execution_count": 3,
      "metadata": {},
      "outputs": [
        {
          "data": {
            "text/html": [
              "<div>\n",
              "<style scoped>\n",
              "    .dataframe tbody tr th:only-of-type {\n",
              "        vertical-align: middle;\n",
              "    }\n",
              "\n",
              "    .dataframe tbody tr th {\n",
              "        vertical-align: top;\n",
              "    }\n",
              "\n",
              "    .dataframe thead th {\n",
              "        text-align: right;\n",
              "    }\n",
              "</style>\n",
              "<table border=\"1\" class=\"dataframe\">\n",
              "  <thead>\n",
              "    <tr style=\"text-align: right;\">\n",
              "      <th></th>\n",
              "      <th>Date</th>\n",
              "      <th>Rented Bike Count</th>\n",
              "      <th>Hour</th>\n",
              "      <th>Temperature(C)</th>\n",
              "      <th>Humidity(%)</th>\n",
              "      <th>Wind speed (m/s)</th>\n",
              "      <th>Visibility (10m)</th>\n",
              "      <th>Dew point temperature(C)</th>\n",
              "      <th>Solar Radiation (MJ/m2)</th>\n",
              "      <th>Rainfall(mm)</th>\n",
              "      <th>Snowfall (cm)</th>\n",
              "      <th>Seasons</th>\n",
              "      <th>Holiday</th>\n",
              "      <th>Functioning Day</th>\n",
              "    </tr>\n",
              "  </thead>\n",
              "  <tbody>\n",
              "    <tr>\n",
              "      <th>0</th>\n",
              "      <td>01/12/17</td>\n",
              "      <td>254</td>\n",
              "      <td>0</td>\n",
              "      <td>-5.2</td>\n",
              "      <td>37</td>\n",
              "      <td>2.2</td>\n",
              "      <td>2000</td>\n",
              "      <td>-17.6</td>\n",
              "      <td>0.0</td>\n",
              "      <td>0.0</td>\n",
              "      <td>0.0</td>\n",
              "      <td>Winter</td>\n",
              "      <td>No Holiday</td>\n",
              "      <td>Yes</td>\n",
              "    </tr>\n",
              "    <tr>\n",
              "      <th>1</th>\n",
              "      <td>01/12/17</td>\n",
              "      <td>204</td>\n",
              "      <td>1</td>\n",
              "      <td>-5.5</td>\n",
              "      <td>38</td>\n",
              "      <td>0.8</td>\n",
              "      <td>2000</td>\n",
              "      <td>-17.6</td>\n",
              "      <td>0.0</td>\n",
              "      <td>0.0</td>\n",
              "      <td>0.0</td>\n",
              "      <td>Winter</td>\n",
              "      <td>No Holiday</td>\n",
              "      <td>Yes</td>\n",
              "    </tr>\n",
              "    <tr>\n",
              "      <th>2</th>\n",
              "      <td>01/12/17</td>\n",
              "      <td>173</td>\n",
              "      <td>2</td>\n",
              "      <td>-6.0</td>\n",
              "      <td>39</td>\n",
              "      <td>1.0</td>\n",
              "      <td>2000</td>\n",
              "      <td>-17.7</td>\n",
              "      <td>0.0</td>\n",
              "      <td>0.0</td>\n",
              "      <td>0.0</td>\n",
              "      <td>Winter</td>\n",
              "      <td>No Holiday</td>\n",
              "      <td>Yes</td>\n",
              "    </tr>\n",
              "    <tr>\n",
              "      <th>3</th>\n",
              "      <td>01/12/17</td>\n",
              "      <td>107</td>\n",
              "      <td>3</td>\n",
              "      <td>-6.2</td>\n",
              "      <td>40</td>\n",
              "      <td>0.9</td>\n",
              "      <td>2000</td>\n",
              "      <td>-17.6</td>\n",
              "      <td>0.0</td>\n",
              "      <td>0.0</td>\n",
              "      <td>0.0</td>\n",
              "      <td>Winter</td>\n",
              "      <td>No Holiday</td>\n",
              "      <td>Yes</td>\n",
              "    </tr>\n",
              "    <tr>\n",
              "      <th>4</th>\n",
              "      <td>01/12/17</td>\n",
              "      <td>78</td>\n",
              "      <td>4</td>\n",
              "      <td>-6.0</td>\n",
              "      <td>36</td>\n",
              "      <td>2.3</td>\n",
              "      <td>2000</td>\n",
              "      <td>-18.6</td>\n",
              "      <td>0.0</td>\n",
              "      <td>0.0</td>\n",
              "      <td>0.0</td>\n",
              "      <td>Winter</td>\n",
              "      <td>No Holiday</td>\n",
              "      <td>Yes</td>\n",
              "    </tr>\n",
              "  </tbody>\n",
              "</table>\n",
              "</div>"
            ],
            "text/plain": [
              "       Date  Rented Bike Count  Hour  Temperature(C)  Humidity(%)  \\\n",
              "0  01/12/17                254     0            -5.2           37   \n",
              "1  01/12/17                204     1            -5.5           38   \n",
              "2  01/12/17                173     2            -6.0           39   \n",
              "3  01/12/17                107     3            -6.2           40   \n",
              "4  01/12/17                 78     4            -6.0           36   \n",
              "\n",
              "   Wind speed (m/s)  Visibility (10m)  Dew point temperature(C)  \\\n",
              "0               2.2              2000                     -17.6   \n",
              "1               0.8              2000                     -17.6   \n",
              "2               1.0              2000                     -17.7   \n",
              "3               0.9              2000                     -17.6   \n",
              "4               2.3              2000                     -18.6   \n",
              "\n",
              "   Solar Radiation (MJ/m2)  Rainfall(mm)  Snowfall (cm) Seasons     Holiday  \\\n",
              "0                      0.0           0.0            0.0  Winter  No Holiday   \n",
              "1                      0.0           0.0            0.0  Winter  No Holiday   \n",
              "2                      0.0           0.0            0.0  Winter  No Holiday   \n",
              "3                      0.0           0.0            0.0  Winter  No Holiday   \n",
              "4                      0.0           0.0            0.0  Winter  No Holiday   \n",
              "\n",
              "  Functioning Day  \n",
              "0             Yes  \n",
              "1             Yes  \n",
              "2             Yes  \n",
              "3             Yes  \n",
              "4             Yes  "
            ]
          },
          "execution_count": 3,
          "metadata": {},
          "output_type": "execute_result"
        }
      ],
      "source": [
        "data = pandas.read_csv('SeoulBikeData.csv')\n",
        "data.head()"
      ]
    },
    {
      "cell_type": "markdown",
      "metadata": {
        "id": "8M-ClByVDZiG"
      },
      "source": [
        "# Question 1\n",
        "Test if the mean of hourly bike rentals reduces if \"Snowfall\" is non zero in winter season. Use entire winter data from 'SeoulBikeData.csv'. Choose appropriate hypothesis test."
      ]
    },
    {
      "cell_type": "code",
      "execution_count": 4,
      "metadata": {},
      "outputs": [],
      "source": [
        "data_= data[(data[\"Seasons\"] == \"Winter\")]\n",
        "data_with_snow = data_[(data_[\"Snowfall (cm)\"] > 0)]\n",
        "data_wo_snow = data_[(data_[\"Snowfall (cm)\"] == 0)]"
      ]
    },
    {
      "cell_type": "code",
      "execution_count": 5,
      "metadata": {},
      "outputs": [],
      "source": [
        "mean_with_snow = data_with_snow[\"Rented Bike Count\"].mean()\n",
        "mean_wo_snow = data_wo_snow[\"Rented Bike Count\"].mean()\n",
        "sd_with_snow = data_with_snow[\"Rented Bike Count\"].std()\n",
        "sd_wo_snow = data_wo_snow[\"Rented Bike Count\"].std()\n",
        "z = (mean_with_snow - mean_wo_snow) / ((sd_with_snow**2/len(data_with_snow)) + (sd_wo_snow**2/len(data_wo_snow)))**0.5\n",
        "p_value = 2*norm.cdf(-abs(z))"
      ]
    },
    {
      "cell_type": "code",
      "execution_count": 23,
      "metadata": {},
      "outputs": [
        {
          "name": "stdout",
          "output_type": "stream",
          "text": [
            "T-statistic:  -10.163358641541603\n",
            "P-value: 0.0000e+00\n",
            "z-statistic:  -12.587491780039079\n",
            "p-value:  2.4741057258547496e-36\n",
            "t-statistic:  -10.163358641541603\n",
            "p-value:  9.799394129697895e-24\n"
          ]
        }
      ],
      "source": [
        "t_stat, p_val = stats.ttest_ind(data_with_snow[\"Rented Bike Count\"], data_wo_snow[\"Rented Bike Count\"])\n",
        "def two_sample_ttest(list1, list2):\n",
        "    # Number of observations in each list\n",
        "    n1 = len(list1)\n",
        "    n2 = len(list2)\n",
        "    \n",
        "    # Calculate the means of each list\n",
        "    mean1 = np.mean(list1)\n",
        "    mean2 = np.mean(list2)\n",
        "    \n",
        "    # Calculate the variances of each list\n",
        "    var1 = np.var(list1, ddof=1)  # Sample variance (ddof=1)\n",
        "    var2 = np.var(list2, ddof=1)\n",
        "    \n",
        "    # Calculate the pooled variance\n",
        "    pooled_var = ((n1 - 1) * var1 + (n2 - 1) * var2) / (n1 + n2 - 2)\n",
        "    \n",
        "    # Calculate the t-statistic\n",
        "    t_stat = (mean1 - mean2) / np.sqrt(pooled_var * (1/n1 + 1/n2))\n",
        "    \n",
        "    # Degrees of freedom\n",
        "    df = n1 + n2 - 2\n",
        "    \n",
        "    # Calculate the two-tailed p-value\n",
        "    p_value = 2 * (1 - t.cdf(abs(t_stat), df))\n",
        "    \n",
        "    return t_stat, p_value\n",
        "t_stat,p =two_sample_ttest(data_with_snow[\"Rented Bike Count\"], data_wo_snow[\"Rented Bike Count\"])\n",
        "print(\"T-statistic: \", t_stat)\n",
        "print(f\"P-value: {p:.4e}\")\n",
        "print(\"z-statistic: \", z)\n",
        "print(\"p-value: \", p_value)\n",
        "print(\"t-statistic_built_in: \", t_stat)\n",
        "print(\"p-value_built_in: \", p_val)"
      ]
    },
    {
      "cell_type": "markdown",
      "metadata": {},
      "source": [
        "Since p-value from both z and t tests are very low compared to the significance level, it suffices to say that we can reject the null hypothesis. Thus the hourly bike rentals have reduced as can be seen with the statistics taking negative values. "
      ]
    },
    {
      "cell_type": "markdown",
      "metadata": {
        "id": "sBEnJOO_DkW0"
      },
      "source": [
        "# Question 2\n",
        "\n",
        "Visualize the hourly non-zero rainfall distribution and identify four quartiles. Test if the mean hourly count of bike rentals in the four quartiles are different using 1 way ANOVA test."
      ]
    },
    {
      "cell_type": "code",
      "execution_count": 7,
      "metadata": {},
      "outputs": [
        {
          "data": {
            "image/png": "[encoded data removed]",
            "text/plain": [
              "<Figure size 800x600 with 1 Axes>"
            ]
          },
          "metadata": {},
          "output_type": "display_data"
        }
      ],
      "source": [
        "data_non_zero_rainfall = data[(data[\"Rainfall(mm)\"] > 0)]\n",
        "Q1,Q2,Q3 = np.percentile(data_non_zero_rainfall[\"Rainfall(mm)\"], [25, 50, 75]).tolist()\n",
        "plt.figure(figsize=(8, 6))\n",
        "plt.hist(data_non_zero_rainfall[\"Rainfall(mm)\"], bins=20, color='blue', edgecolor='black')\n",
        "plt.axvline(Q1, color='red', linestyle='--', label=f'Q1 (25th percentile): {Q1:.2f}')\n",
        "plt.axvline(Q2, color='green', linestyle='--', label=f'Q2 (Median): {Q2:.2f}')\n",
        "plt.axvline(Q3, color='orange', linestyle='--', label=f'Q3 (75th percentile): {Q3:.2f}')\n",
        "plt.title('Histogram of Hourly Rainfall(mm)')\n",
        "plt.xlabel('Value')\n",
        "plt.ylabel('Frequency')\n",
        "plt.show()"
      ]
    },
    {
      "cell_type": "code",
      "execution_count": 25,
      "metadata": {},
      "outputs": [
        {
          "name": "stdout",
          "output_type": "stream",
          "text": [
            "Built_in f statistic and p value F_onewayResult(statistic=np.float64(12.763393537618176), pvalue=np.float64(4.6219482371881094e-08))\n",
            "f statistic, p value: (np.float64(12.763393537618171), np.float64(4.621948235250528e-08))\n"
          ]
        }
      ],
      "source": [
        "Q1,Q2,Q3\n",
        "quar1 = (data_non_zero_rainfall.loc[data_non_zero_rainfall[\"Rainfall(mm)\"] <= Q1, \"Rented Bike Count\"]).reset_index(drop=True).tolist()\n",
        "quar2 = (data_non_zero_rainfall.loc[(data_non_zero_rainfall[\"Rainfall(mm)\"] > Q1) & (data_non_zero_rainfall[\"Rainfall(mm)\"] <= Q2), \"Rented Bike Count\"]).reset_index(drop=True).tolist()\n",
        "quar3 = (data_non_zero_rainfall.loc[(data_non_zero_rainfall[\"Rainfall(mm)\"] > Q2) & (data_non_zero_rainfall[\"Rainfall(mm)\"] <= Q3), \"Rented Bike Count\"]).reset_index(drop=True).tolist()\n",
        "quar4 = (data_non_zero_rainfall.loc[data_non_zero_rainfall[\"Rainfall(mm)\"] > Q3, \"Rented Bike Count\"]).reset_index(drop=True).tolist()\n",
        "print(\"Built_in f statistic and p value\", stats.f_oneway(quar1, quar2, quar3, quar4))\n",
        "\n",
        "def one_way_anova(*groups):\n",
        "    # Number of groups\n",
        "    k = len(groups)\n",
        "    \n",
        "    # Number of observations\n",
        "    n = sum([len(group) for group in groups])\n",
        "    \n",
        "    # Overall mean\n",
        "    overall_mean = np.mean([value for group in groups for value in group])\n",
        "    \n",
        "    # Calculate SSB (Sum of Squares Between)\n",
        "    ssb = sum([len(group) * (np.mean(group) - overall_mean)**2 for group in groups])\n",
        "    \n",
        "    # Calculate SSW (Sum of Squares Within)\n",
        "    ssw = sum([sum((group - np.mean(group))**2) for group in groups])\n",
        "    \n",
        "    # Degrees of freedom\n",
        "    dfb = k - 1       # Between-groups degrees of freedom\n",
        "    dfw = n - k       # Within-groups degrees of freedom\n",
        "    \n",
        "    # Mean square\n",
        "    msb = ssb / dfb   # Mean Square Between\n",
        "    msw = ssw / dfw   # Mean Square Within\n",
        "    \n",
        "    # F-statistic\n",
        "    f_stat = msb / msw\n",
        "    \n",
        "    # Calculate p-value\n",
        "    p_value = 1 - f.cdf(f_stat, dfb, dfw)\n",
        "    \n",
        "    return f_stat, p_value\n",
        "print(\"f statistic, p value:\",one_way_anova(quar1,quar2,quar3,quar4))"
      ]
    },
    {
      "cell_type": "markdown",
      "metadata": {},
      "source": [
        "Conclusion: The means of at least 2 of the 4 groups are different. Since the p-value is low compared to the significance level the null hypothesis that is \"All means are the same\" has to be rejected."
      ]
    },
    {
      "cell_type": "markdown",
      "metadata": {
        "id": "fZUtrgSqDoLL"
      },
      "source": [
        "# Question 3\n",
        "Visualize the average hourly bike rentals in Summer Season and Spring Season. Identify if the two distributions are different using Chi-squared test."
      ]
    },
    {
      "cell_type": "code",
      "execution_count": 29,
      "metadata": {},
      "outputs": [
        {
          "data": {
            "image/png": "[encoded data removed]",
            "text/plain": [
              "<Figure size 640x480 with 1 Axes>"
            ]
          },
          "metadata": {},
          "output_type": "display_data"
        },
        {
          "data": {
            "image/png": "[encoded data removed]",
            "text/plain": [
              "<Figure size 640x480 with 1 Axes>"
            ]
          },
          "metadata": {},
          "output_type": "display_data"
        }
      ],
      "source": [
        "data_summer = data[(data[\"Seasons\"] == \"Summer\")]\n",
        "data_spring = data[(data[\"Seasons\"] == \"Spring\")]\n",
        "plt.hist(data_summer[\"Rented Bike Count\"], bins=20, color='blue', edgecolor='black')\n",
        "plt.title('Histogram of summer hourly bike rentals')\n",
        "plt.xlabel('Value')\n",
        "plt.ylabel('Frequency')\n",
        "plt.show()\n",
        "plt.hist(data_spring[\"Rented Bike Count\"], bins=20, color='blue', edgecolor='black')\n",
        "plt.title('Histogram of spring hourly bike rentals')\n",
        "plt.xlabel('Value')\n",
        "plt.ylabel('Frequency')\n",
        "plt.show()"
      ]
    },
    {
      "cell_type": "code",
      "execution_count": 32,
      "metadata": {},
      "outputs": [
        {
          "name": "stdout",
          "output_type": "stream",
          "text": [
            "Chi-Squared Test with 5 bins:\n",
            "p value:  1.6504407200446134e-62\n",
            "dof:  4\n",
            "Chi-Squared Test with 10 bins:\n",
            "p value:  1.9437974018400605e-63\n",
            "dof:  9\n",
            "Chi-Squared Test with 15 bins:\n",
            "p value:  1.757015179681642e-65\n",
            "dof:  14\n",
            "Chi-Squared Test with 20 bins:\n",
            "p value:  2.867630644165031e-63\n",
            "dof:  19\n",
            "Chi-Squared Test with 25 bins:\n",
            "p value:  5.033113053656802e-61\n",
            "dof:  24\n",
            "Chi-Squared Test with 30 bins:\n",
            "p value:  8.418081038310366e-60\n",
            "dof:  29\n",
            "Chi-Squared Test with 35 bins:\n",
            "p value:  5.62833486545816e-57\n",
            "dof:  34\n",
            "Chi-Squared Test with 40 bins:\n",
            "p value:  3.1749363726625865e-56\n",
            "dof:  39\n",
            "Chi-Squared Test with 45 bins:\n",
            "p value:  1.1156253206689015e-56\n",
            "dof:  44\n",
            "Chi-Squared Test with 50 bins:\n",
            "p value:  7.758945175840271e-55\n",
            "dof:  49\n",
            "Chi-Squared Test with 55 bins:\n",
            "p value:  8.869323497913654e-51\n",
            "dof:  54\n",
            "Chi-Squared Test with 60 bins:\n",
            "p value:  2.220447945406296e-51\n",
            "dof:  59\n",
            "Chi-Squared Test with 65 bins:\n",
            "p value:  3.5548240957087426e-50\n",
            "dof:  64\n",
            "Chi-Squared Test with 70 bins:\n",
            "p value:  1.7694043176244943e-50\n",
            "dof:  69\n",
            "Chi-Squared Test with 75 bins:\n",
            "p value:  1.7066987023671382e-48\n",
            "dof:  74\n",
            "Chi-Squared Test with 80 bins:\n",
            "p value:  3.321024481076721e-46\n",
            "dof:  79\n",
            "Chi-Squared Test with 85 bins:\n",
            "p value:  1.9955911608965523e-46\n",
            "dof:  84\n",
            "Chi-Squared Test with 90 bins:\n",
            "p value:  4.1145114994624975e-46\n",
            "dof:  89\n"
          ]
        }
      ],
      "source": [
        "import numpy as np\n",
        "from scipy.stats import chi2\n",
        "\n",
        "def chi2_contingency_manual(contingency_table, correction=False):\n",
        "    # Sum of the contingency table\n",
        "    total = np.sum(contingency_table)\n",
        "    \n",
        "    # Row and column sums\n",
        "    row_sums = np.sum(contingency_table, axis=1)\n",
        "    col_sums = np.sum(contingency_table, axis=0)\n",
        "    \n",
        "    # Calculate expected frequencies\n",
        "    expected = np.outer(row_sums, col_sums) / total\n",
        "    \n",
        "    # Chi-square statistic\n",
        "    chi2_stat = np.sum((contingency_table - expected) ** 2 / expected)\n",
        "    \n",
        "    # Degrees of freedom: (number of rows - 1) * (number of columns - 1)\n",
        "    df = (contingency_table.shape[0] - 1) * (contingency_table.shape[1] - 1)\n",
        "    \n",
        "    # Calculate the p-value\n",
        "    p_value = 1 - chi2.cdf(chi2_stat, df)\n",
        "    \n",
        "    return chi2_stat, p_value, df, expected\n",
        "def chi_squared_test(data_summer, data_spring, n_bins=10):    \n",
        "    #data_max = max(data_summer[\"Rented Bike Count\"].max(), data_spring[\"Rented Bike Count\"].max())\n",
        "    bins = np.percentile(np.concatenate([data_summer[\"Rented Bike Count\"], data_spring[\"Rented Bike Count\"]]), np.linspace(0, 100, n_bins+1))  \n",
        "    #print(bins)  \n",
        "    # print(combined_data)\n",
        "    # bins = np.linspace(0, data_max, n_bins+1)\n",
        "    hist_summer, _ = np.histogram(data_summer[\"Rented Bike Count\"], bins=bins)\n",
        "    hist_spring, _ = np.histogram(data_spring[\"Rented Bike Count\"], bins=bins)\n",
        "    \n",
        "    # Create a contingency table\n",
        "    contingency_table = np.vstack([hist_summer, hist_spring]).T\n",
        "\n",
        "    # Perform Chi-Squared Test\n",
        "    chi2_stat, p_value, dof, expected = stats.chi2_contingency(contingency_table, correction=False)\n",
        "    return chi2_stat, p_value, dof, expected\n",
        "for i in range(5, 100, 5):\n",
        "    try:\n",
        "        chi2_stat, p_value, dof, expected = chi_squared_test(data_summer, data_spring, n_bins=i)\n",
        "        print(f\"Chi-Squared Test with {i} bins:\")\n",
        "        print(\"p value: \", p_value)\n",
        "        print(\"dof: \", dof)\n",
        "    except:\n",
        "        break\n",
        "    \n"
      ]
    },
    {
      "cell_type": "markdown",
      "metadata": {},
      "source": [
        "As can be seen from very few to very high number of bins, the p value is negligible compared to the significance level and the null hypothesis must be rejected, that is the distributions of hourly bike rentals in the spring and summer don't have the same distribution."
      ]
    },
    {
      "cell_type": "markdown",
      "metadata": {},
      "source": []
    }
  ],
  "metadata": {
    "colab": {
      "include_colab_link": true,
      "provenance": []
    },
    "kernelspec": {
      "display_name": "Python 3",
      "name": "python3"
    },
    "language_info": {
      "codemirror_mode": {
        "name": "ipython",
        "version": 3
      },
      "file_extension": ".py",
      "mimetype": "text/x-python",
      "name": "python",
      "nbconvert_exporter": "python",
      "pygments_lexer": "ipython3",
      "version": "3.12.1"
    }
  },
  "nbformat": 4,
  "nbformat_minor": 0
}
