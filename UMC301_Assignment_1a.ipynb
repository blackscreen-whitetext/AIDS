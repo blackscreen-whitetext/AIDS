{
  "cells": [
    {
      "cell_type": "markdown",
      "metadata": {
        "colab_type": "text",
        "id": "view-in-github"
      },
      "source": [
        "<a href=\"https://colab.research.google.com/github/blackscreen-whitetext/AIDS/blob/main/UMC301_Assignment_1a.ipynb\" target=\"_parent\"><img src=\"https://colab.research.google.com/assets/colab-badge.svg\" alt=\"Open In Colab\"/></a>"
      ]
    },
    {
      "cell_type": "markdown",
      "metadata": {
        "id": "dZ0_pb94DLbS"
      },
      "source": [
        "# UMC 301: Applied Data Science and Artificial Intelligence\n",
        "## Assignment 1a\n",
        "\n",
        "### Submission instructions:\n",
        "\n",
        "\n",
        "1.   The assignment is to be submitted in ONE single notebook.\n",
        "2.   Submit the .ipynb file and pdf of the same with all cells open through this Teams Assignment.\n",
        "3. If your IISc email ID is < username > @iisc.ac.in, then name the file < username >_Assgn_1a. E.g. jonathan_Assgn_1a for email ID jonathan@iisc.ac.in.\n",
        "4. Before submission, execute the ’Restart session and run all’ option from the Runtime/Kernel tab. Verify that there are no errors and that you are getting the output you expect.\n",
        "5. Use the dataset **'SeoulBikeData.csv'**: https://www.dropbox.com/scl/fi/tofrz23mx38tbsrtar1lx/SeoulBikeData.csv?rlkey=zlvra2py146p5lrynxnzijc1p&dl=1\n",
        "6. Use significance level $\\alpha = 0.05$ for all questions.\n",
        "7. Calculate the hypothesis test statistics (stat_value, p_value, dof etc.) using equations and validate using the inbuit python functions."
      ]
    },
    {
      "cell_type": "code",
      "execution_count": 2,
      "metadata": {},
      "outputs": [],
      "source": [
        "import pandas\n",
        "import numpy as np\n",
        "from scipy.stats import norm\n",
        "import scipy.stats as stats\n",
        "import matplotlib.pyplot as plt\n",
        "import seaborn as sns"
      ]
    },
    {
      "cell_type": "code",
      "execution_count": 3,
      "metadata": {},
      "outputs": [
        {
          "data": {
            "text/html": [
              "<div>\n",
              "<style scoped>\n",
              "    .dataframe tbody tr th:only-of-type {\n",
              "        vertical-align: middle;\n",
              "    }\n",
              "\n",
              "    .dataframe tbody tr th {\n",
              "        vertical-align: top;\n",
              "    }\n",
              "\n",
              "    .dataframe thead th {\n",
              "        text-align: right;\n",
              "    }\n",
              "</style>\n",
              "<table border=\"1\" class=\"dataframe\">\n",
              "  <thead>\n",
              "    <tr style=\"text-align: right;\">\n",
              "      <th></th>\n",
              "      <th>Date</th>\n",
              "      <th>Rented Bike Count</th>\n",
              "      <th>Hour</th>\n",
              "      <th>Temperature(C)</th>\n",
              "      <th>Humidity(%)</th>\n",
              "      <th>Wind speed (m/s)</th>\n",
              "      <th>Visibility (10m)</th>\n",
              "      <th>Dew point temperature(C)</th>\n",
              "      <th>Solar Radiation (MJ/m2)</th>\n",
              "      <th>Rainfall(mm)</th>\n",
              "      <th>Snowfall (cm)</th>\n",
              "      <th>Seasons</th>\n",
              "      <th>Holiday</th>\n",
              "      <th>Functioning Day</th>\n",
              "    </tr>\n",
              "  </thead>\n",
              "  <tbody>\n",
              "    <tr>\n",
              "      <th>0</th>\n",
              "      <td>01/12/17</td>\n",
              "      <td>254</td>\n",
              "      <td>0</td>\n",
              "      <td>-5.2</td>\n",
              "      <td>37</td>\n",
              "      <td>2.2</td>\n",
              "      <td>2000</td>\n",
              "      <td>-17.6</td>\n",
              "      <td>0.0</td>\n",
              "      <td>0.0</td>\n",
              "      <td>0.0</td>\n",
              "      <td>Winter</td>\n",
              "      <td>No Holiday</td>\n",
              "      <td>Yes</td>\n",
              "    </tr>\n",
              "    <tr>\n",
              "      <th>1</th>\n",
              "      <td>01/12/17</td>\n",
              "      <td>204</td>\n",
              "      <td>1</td>\n",
              "      <td>-5.5</td>\n",
              "      <td>38</td>\n",
              "      <td>0.8</td>\n",
              "      <td>2000</td>\n",
              "      <td>-17.6</td>\n",
              "      <td>0.0</td>\n",
              "      <td>0.0</td>\n",
              "      <td>0.0</td>\n",
              "      <td>Winter</td>\n",
              "      <td>No Holiday</td>\n",
              "      <td>Yes</td>\n",
              "    </tr>\n",
              "    <tr>\n",
              "      <th>2</th>\n",
              "      <td>01/12/17</td>\n",
              "      <td>173</td>\n",
              "      <td>2</td>\n",
              "      <td>-6.0</td>\n",
              "      <td>39</td>\n",
              "      <td>1.0</td>\n",
              "      <td>2000</td>\n",
              "      <td>-17.7</td>\n",
              "      <td>0.0</td>\n",
              "      <td>0.0</td>\n",
              "      <td>0.0</td>\n",
              "      <td>Winter</td>\n",
              "      <td>No Holiday</td>\n",
              "      <td>Yes</td>\n",
              "    </tr>\n",
              "    <tr>\n",
              "      <th>3</th>\n",
              "      <td>01/12/17</td>\n",
              "      <td>107</td>\n",
              "      <td>3</td>\n",
              "      <td>-6.2</td>\n",
              "      <td>40</td>\n",
              "      <td>0.9</td>\n",
              "      <td>2000</td>\n",
              "      <td>-17.6</td>\n",
              "      <td>0.0</td>\n",
              "      <td>0.0</td>\n",
              "      <td>0.0</td>\n",
              "      <td>Winter</td>\n",
              "      <td>No Holiday</td>\n",
              "      <td>Yes</td>\n",
              "    </tr>\n",
              "    <tr>\n",
              "      <th>4</th>\n",
              "      <td>01/12/17</td>\n",
              "      <td>78</td>\n",
              "      <td>4</td>\n",
              "      <td>-6.0</td>\n",
              "      <td>36</td>\n",
              "      <td>2.3</td>\n",
              "      <td>2000</td>\n",
              "      <td>-18.6</td>\n",
              "      <td>0.0</td>\n",
              "      <td>0.0</td>\n",
              "      <td>0.0</td>\n",
              "      <td>Winter</td>\n",
              "      <td>No Holiday</td>\n",
              "      <td>Yes</td>\n",
              "    </tr>\n",
              "  </tbody>\n",
              "</table>\n",
              "</div>"
            ],
            "text/plain": [
              "       Date  Rented Bike Count  Hour  Temperature(C)  Humidity(%)  \\\n",
              "0  01/12/17                254     0            -5.2           37   \n",
              "1  01/12/17                204     1            -5.5           38   \n",
              "2  01/12/17                173     2            -6.0           39   \n",
              "3  01/12/17                107     3            -6.2           40   \n",
              "4  01/12/17                 78     4            -6.0           36   \n",
              "\n",
              "   Wind speed (m/s)  Visibility (10m)  Dew point temperature(C)  \\\n",
              "0               2.2              2000                     -17.6   \n",
              "1               0.8              2000                     -17.6   \n",
              "2               1.0              2000                     -17.7   \n",
              "3               0.9              2000                     -17.6   \n",
              "4               2.3              2000                     -18.6   \n",
              "\n",
              "   Solar Radiation (MJ/m2)  Rainfall(mm)  Snowfall (cm) Seasons     Holiday  \\\n",
              "0                      0.0           0.0            0.0  Winter  No Holiday   \n",
              "1                      0.0           0.0            0.0  Winter  No Holiday   \n",
              "2                      0.0           0.0            0.0  Winter  No Holiday   \n",
              "3                      0.0           0.0            0.0  Winter  No Holiday   \n",
              "4                      0.0           0.0            0.0  Winter  No Holiday   \n",
              "\n",
              "  Functioning Day  \n",
              "0             Yes  \n",
              "1             Yes  \n",
              "2             Yes  \n",
              "3             Yes  \n",
              "4             Yes  "
            ]
          },
          "execution_count": 3,
          "metadata": {},
          "output_type": "execute_result"
        }
      ],
      "source": [
        "data = pandas.read_csv('SeoulBikeData.csv')\n",
        "data.head()"
      ]
    },
    {
      "cell_type": "markdown",
      "metadata": {
        "id": "8M-ClByVDZiG"
      },
      "source": [
        "# Question 1\n",
        "Test if the mean of hourly bike rentals reduces if \"Snowfall\" is non zero in winter season. Use entire winter data from 'SeoulBikeData.csv'. Choose appropriate hypothesis test."
      ]
    },
    {
      "cell_type": "code",
      "execution_count": 4,
      "metadata": {},
      "outputs": [],
      "source": [
        "data_= data[(data[\"Seasons\"] == \"Winter\")]\n",
        "data_with_snow = data_[(data_[\"Snowfall (cm)\"] > 0)]\n",
        "data_wo_snow = data_[(data_[\"Snowfall (cm)\"] == 0)]"
      ]
    },
    {
      "cell_type": "code",
      "execution_count": 5,
      "metadata": {},
      "outputs": [],
      "source": [
        "mean_with_snow = data_with_snow[\"Rented Bike Count\"].mean()\n",
        "mean_wo_snow = data_wo_snow[\"Rented Bike Count\"].mean()\n",
        "sd_with_snow = data_with_snow[\"Rented Bike Count\"].std()\n",
        "sd_wo_snow = data_wo_snow[\"Rented Bike Count\"].std()\n",
        "z = (mean_with_snow - mean_wo_snow) / ((sd_with_snow**2/len(data_with_snow)) + (sd_wo_snow**2/len(data_wo_snow)))**0.5\n",
        "p_value = 2*norm.cdf(-abs(z))"
      ]
    },
    {
      "cell_type": "code",
      "execution_count": 6,
      "metadata": {},
      "outputs": [
        {
          "name": "stdout",
          "output_type": "stream",
          "text": [
            "z-statistic:  -12.587491780039079\n",
            "p-value:  2.4741057258547496e-36\n",
            "t-statistic:  -10.163358641541603\n",
            "p-value:  9.799394129697895e-24\n"
          ]
        }
      ],
      "source": [
        "t_stat, p_val = stats.ttest_ind(data_with_snow[\"Rented Bike Count\"], data_wo_snow[\"Rented Bike Count\"])\n",
        "print(\"z-statistic: \", z)\n",
        "print(\"p-value: \", p_value)\n",
        "print(\"t-statistic: \", t_stat)\n",
        "print(\"p-value: \", p_val)"
      ]
    },
    {
      "cell_type": "markdown",
      "metadata": {},
      "source": [
        "Since p-value from both z and t tests are very low, it suffices to say that we can reject the null hypothesis. Thus the hourly bike rentals have reduced as can be seen with the statistics taking negative values. "
      ]
    },
    {
      "cell_type": "markdown",
      "metadata": {
        "id": "sBEnJOO_DkW0"
      },
      "source": [
        "# Question 2\n",
        "\n",
        "Visualize the hourly non-zero rainfall distribution and identify four quartiles. Test if the mean hourly count of bike rentals in the four quartiles are different using 1 way ANOVA test."
      ]
    },
    {
      "cell_type": "code",
      "execution_count": 11,
      "metadata": {},
      "outputs": [
        {
          "data": {
            "image/png": "[encoded data removed]",
            "text/plain": [
              "<Figure size 800x600 with 1 Axes>"
            ]
          },
          "metadata": {},
          "output_type": "display_data"
        }
      ],
      "source": [
        "data_non_zero_rainfall = data[(data[\"Rainfall(mm)\"] > 0)]\n",
        "Q1,Q2,Q3 = np.percentile(data_non_zero_rainfall[\"Rainfall(mm)\"], [25, 50, 75]).tolist()\n",
        "plt.figure(figsize=(8, 6))\n",
        "plt.hist(data_non_zero_rainfall[\"Rainfall(mm)\"], bins=20, color='blue', edgecolor='black')\n",
        "plt.axvline(Q1, color='red', linestyle='--', label=f'Q1 (25th percentile): {Q1:.2f}')\n",
        "plt.axvline(Q2, color='green', linestyle='--', label=f'Q2 (Median): {Q2:.2f}')\n",
        "plt.axvline(Q3, color='orange', linestyle='--', label=f'Q3 (75th percentile): {Q3:.2f}')\n",
        "plt.title('Histogram of Hourly Rainfall(mm)')\n",
        "plt.xlabel('Value')\n",
        "plt.ylabel('Frequency')\n",
        "plt.show()"
      ]
    },
    {
      "cell_type": "code",
      "execution_count": 18,
      "metadata": {},
      "outputs": [
        {
          "data": {
            "text/plain": [
              "F_onewayResult(statistic=np.float64(12.763393537618176), pvalue=np.float64(4.6219482371881094e-08))"
            ]
          },
          "execution_count": 18,
          "metadata": {},
          "output_type": "execute_result"
        }
      ],
      "source": [
        "Q1,Q2,Q3\n",
        "quar1 = (data_non_zero_rainfall.loc[data_non_zero_rainfall[\"Rainfall(mm)\"] <= Q1, \"Rented Bike Count\"]).reset_index(drop=True).tolist()\n",
        "quar2 = (data_non_zero_rainfall.loc[(data_non_zero_rainfall[\"Rainfall(mm)\"] > Q1) & (data_non_zero_rainfall[\"Rainfall(mm)\"] <= Q2), \"Rented Bike Count\"]).reset_index(drop=True).tolist()\n",
        "quar3 = (data_non_zero_rainfall.loc[(data_non_zero_rainfall[\"Rainfall(mm)\"] > Q2) & (data_non_zero_rainfall[\"Rainfall(mm)\"] <= Q3), \"Rented Bike Count\"]).reset_index(drop=True).tolist()\n",
        "quar4 = (data_non_zero_rainfall.loc[data_non_zero_rainfall[\"Rainfall(mm)\"] > Q3, \"Rented Bike Count\"]).reset_index(drop=True).tolist()\n",
        "stats.f_oneway(quar1, quar2, quar3, quar4)\n"
      ]
    },
    {
      "cell_type": "markdown",
      "metadata": {},
      "source": [
        "Conclusion: The means of at least 2 of the 4 groups are different. Since the p-value is low the null hypothesis that is \"All means are the same\" has to be rejected."
      ]
    },
    {
      "cell_type": "markdown",
      "metadata": {
        "id": "fZUtrgSqDoLL"
      },
      "source": [
        "# Question 3\n",
        "Visualize the average hourly bike rentals in Summer Season and Spring Season. Identify if the two distributions are different using Chi-squared test."
      ]
    },
    {
      "cell_type": "code",
      "execution_count": 20,
      "metadata": {},
      "outputs": [
        {
          "data": {
            "image/png": "[encoded data removed]",
            "text/plain": [
              "<Figure size 640x480 with 1 Axes>"
            ]
          },
          "metadata": {},
          "output_type": "display_data"
        },
        {
          "data": {
            "image/png": "[encoded data removed]",
            "text/plain": [
              "<Figure size 640x480 with 1 Axes>"
            ]
          },
          "metadata": {},
          "output_type": "display_data"
        }
      ],
      "source": [
        "data_summer = data[(data[\"Seasons\"] == \"Summer\")]\n",
        "data_spring = data[(data[\"Seasons\"] == \"Spring\")]\n",
        "plt.hist(data_summer[\"Rented Bike Count\"], bins=20, color='blue', edgecolor='black')\n",
        "plt.title('Histogram of summer hourly bike rentals')\n",
        "plt.xlabel('Value')\n",
        "plt.ylabel('Frequency')\n",
        "plt.show()\n",
        "plt.hist(data_spring[\"Rented Bike Count\"], bins=20, color='blue', edgecolor='black')\n",
        "plt.title('Histogram of spring hourly bike rentals')\n",
        "plt.xlabel('Value')\n",
        "plt.ylabel('Frequency')\n",
        "plt.show()"
      ]
    },
    {
      "cell_type": "code",
      "execution_count": 35,
      "metadata": {},
      "outputs": [
        {
          "name": "stdout",
          "output_type": "stream",
          "text": [
            "Chi-Squared Test with 5 bins:\n",
            "p value:  2.0114349003371926e-40\n",
            "dof:  4\n",
            "Chi-Squared Test with 10 bins:\n",
            "p value:  1.0383744262126271e-44\n",
            "dof:  9\n",
            "Chi-Squared Test with 15 bins:\n",
            "p value:  5.53384021620029e-56\n",
            "dof:  14\n",
            "Chi-Squared Test with 20 bins:\n",
            "p value:  2.9779638599611766e-59\n",
            "dof:  19\n"
          ]
        }
      ],
      "source": [
        "def chi_squared_test(data_summer, data_spring, n_bins=10):    \n",
        "    data_max = max(data_summer[\"Rented Bike Count\"].max(), data_spring[\"Rented Bike Count\"].max())\n",
        "\n",
        "    bins = np.linspace(0, data_max, n_bins+1)\n",
        "    hist_summer, _ = np.histogram(data_summer[\"Rented Bike Count\"], bins=bins)\n",
        "    hist_spring, _ = np.histogram(data_spring[\"Rented Bike Count\"], bins=bins)\n",
        "    \n",
        "    # Create a contingency table\n",
        "    contingency_table = np.vstack([hist_summer, hist_spring]).T\n",
        "\n",
        "    # Perform Chi-Squared Test\n",
        "    chi2_stat, p_value, dof, expected = stats.chi2_contingency(contingency_table, correction=False)\n",
        "    return chi2_stat, p_value, dof, expected\n",
        "for i in range(5, 25, 5):\n",
        "    chi2_stat, p_value, dof, expected = chi_squared_test(data_summer, data_spring, n_bins=i)\n",
        "    print(f\"Chi-Squared Test with {i} bins:\")\n",
        "    print(\"p value: \", p_value)\n",
        "    print(\"dof: \", dof)\n",
        "    \n"
      ]
    },
    {
      "cell_type": "markdown",
      "metadata": {},
      "source": [
        "As can be seen from very few to very high number of bins, the p value is negligible and the null hypothesis must be rejected, that is the distributions of hourly bike rentals in the spring and summer don't have the same distribution."
      ]
    },
    {
      "cell_type": "markdown",
      "metadata": {},
      "source": []
    }
  ],
  "metadata": {
    "colab": {
      "include_colab_link": true,
      "provenance": []
    },
    "kernelspec": {
      "display_name": "Python 3",
      "name": "python3"
    },
    "language_info": {
      "codemirror_mode": {
        "name": "ipython",
        "version": 3
      },
      "file_extension": ".py",
      "mimetype": "text/x-python",
      "name": "python",
      "nbconvert_exporter": "python",
      "pygments_lexer": "ipython3",
      "version": "3.12.1"
    }
  },
  "nbformat": 4,
  "nbformat_minor": 0
}
